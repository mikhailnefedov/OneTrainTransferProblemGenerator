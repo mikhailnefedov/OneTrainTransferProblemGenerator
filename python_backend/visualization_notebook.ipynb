{
 "cells": [
  {
   "cell_type": "code",
   "execution_count": 42,
   "outputs": [],
   "source": [
    "import pprint\n",
    "import numpy as np\n",
    "import matplotlib.pyplot as plt"
   ],
   "metadata": {
    "collapsed": false,
    "ExecuteTime": {
     "end_time": "2023-07-10T12:25:15.257802Z",
     "start_time": "2023-07-10T12:25:10.190749100Z"
    }
   }
  },
  {
   "cell_type": "code",
   "execution_count": 14,
   "outputs": [],
   "source": [
    "# VARIABLES CONFIGURATION\n",
    "experiment_id = \"06-07-test\""
   ],
   "metadata": {
    "collapsed": false,
    "ExecuteTime": {
     "end_time": "2023-07-10T08:45:52.110553900Z",
     "start_time": "2023-07-10T08:45:52.102533500Z"
    }
   }
  },
  {
   "cell_type": "code",
   "execution_count": 4,
   "outputs": [
    {
     "data": {
      "text/plain": "{'ok': 1.0}"
     },
     "execution_count": 4,
     "metadata": {},
     "output_type": "execute_result"
    }
   ],
   "source": [
    "from pymongo.mongo_client import MongoClient\n",
    "from pymongo.server_api import ServerApi\n",
    "\n",
    "uri = \"localhost:27017\"\n",
    "client = MongoClient(uri, server_api=ServerApi('1'))\n",
    "\n",
    "client.admin.command('ping')"
   ],
   "metadata": {
    "collapsed": false,
    "ExecuteTime": {
     "end_time": "2023-07-10T08:29:07.276299300Z",
     "start_time": "2023-07-10T08:29:07.236061800Z"
    }
   }
  },
  {
   "cell_type": "code",
   "execution_count": 41,
   "outputs": [],
   "source": [
    "db = client.test\n",
    "historical_evolution_data = db.historicalEvolutionData\n",
    "\n",
    "data = historical_evolution_data.find({\"experimentId\" : experiment_id})\n",
    "\n",
    "def convert_cost_values_to_percentages(costs):\n",
    "    percentage_values = []\n",
    "    start_value = costs[0]\n",
    "    for i in range(0, len(costs)):\n",
    "        percentage_values.append(costs[i] / start_value * 100)\n",
    "    return percentage_values\n",
    "\n",
    "def convert_to_percentages(array):\n",
    "    for i in range(0, len(array)):\n",
    "        array[i] = convert_cost_values_to_percentages(array[i])\n",
    "\n",
    "\n",
    "cost_data = list(map(lambda x: x[\"costData\"], data))\n",
    "convert_to_percentages(cost_data)\n",
    "percentages = np.array(cost_data)\n",
    "average_percentages = np.mean(percentages, axis=0)\n"
   ],
   "metadata": {
    "collapsed": false,
    "ExecuteTime": {
     "end_time": "2023-07-10T12:24:39.355619100Z",
     "start_time": "2023-07-10T12:24:39.325832600Z"
    }
   }
  },
  {
   "cell_type": "code",
   "execution_count": 45,
   "outputs": [
    {
     "data": {
      "text/plain": "<Figure size 432x288 with 1 Axes>",
      "image/png": "[encoded data removed]"
     },
     "metadata": {
      "needs_background": "light"
     },
     "output_type": "display_data"
    }
   ],
   "source": [
    "fig, ax = plt.subplots()\n",
    "ax.plot(average_percentages)\n",
    "\n",
    "ax.set(xlabel='generation', ylabel='%',\n",
    "       title='Average % evolution of costs')\n",
    "ax.grid()\n",
    "\n",
    "plt.show()"
   ],
   "metadata": {
    "collapsed": false,
    "ExecuteTime": {
     "end_time": "2023-07-10T12:28:29.160407100Z",
     "start_time": "2023-07-10T12:28:29.029051Z"
    }
   }
  }
 ],
 "metadata": {
  "kernelspec": {
   "display_name": "Python 3",
   "language": "python",
   "name": "python3"
  },
  "language_info": {
   "codemirror_mode": {
    "name": "ipython",
    "version": 2
   },
   "file_extension": ".py",
   "mimetype": "text/x-python",
   "name": "python",
   "nbconvert_exporter": "python",
   "pygments_lexer": "ipython2",
   "version": "2.7.6"
  }
 },
 "nbformat": 4,
 "nbformat_minor": 0
}
